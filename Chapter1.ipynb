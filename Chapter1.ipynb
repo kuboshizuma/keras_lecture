{
 "cells": [
  {
   "cell_type": "markdown",
   "metadata": {},
   "source": [
    "# MLP"
   ]
  },
  {
   "cell_type": "markdown",
   "metadata": {},
   "source": [
    "参考: https://github.com/fchollet/keras/blob/master/examples/mnist_cnn.py"
   ]
  },
  {
   "cell_type": "code",
   "execution_count": 1,
   "metadata": {
    "collapsed": false
   },
   "outputs": [
    {
     "name": "stderr",
     "output_type": "stream",
     "text": [
      "Using TensorFlow backend.\n"
     ]
    }
   ],
   "source": [
    "import numpy\n",
    "import keras\n",
    "from keras.datasets import mnist\n",
    "from keras.models import Sequential\n",
    "from keras.layers import Dense"
   ]
  },
  {
   "cell_type": "markdown",
   "metadata": {},
   "source": [
    "## データの読み込み"
   ]
  },
  {
   "cell_type": "code",
   "execution_count": 2,
   "metadata": {
    "collapsed": false
   },
   "outputs": [],
   "source": [
    "(X_train, y_train), (X_test, y_test) = mnist.load_data()"
   ]
  },
  {
   "cell_type": "code",
   "execution_count": 3,
   "metadata": {
    "collapsed": false
   },
   "outputs": [],
   "source": [
    "# 画像のreshapeと正規化\n",
    "X_train = X_train.reshape(-1, 784).astype('float32')\n",
    "X_test = X_test.reshape(-1, 784).astype('float32')\n",
    "X_train /= 255\n",
    "X_test /= 255"
   ]
  },
  {
   "cell_type": "code",
   "execution_count": 4,
   "metadata": {
    "collapsed": false
   },
   "outputs": [],
   "source": [
    "# one-hot化\n",
    "y_train = keras.utils.to_categorical(y_train, 10)\n",
    "y_test = keras.utils.to_categorical(y_test, 10)"
   ]
  },
  {
   "cell_type": "markdown",
   "metadata": {},
   "source": [
    "## layer 定義 と activation"
   ]
  },
  {
   "cell_type": "markdown",
   "metadata": {},
   "source": [
    "- Dropoutのlayerも入れて良さそう。\n",
    "- keras activations: https://keras.io/ja/activations/"
   ]
  },
  {
   "cell_type": "code",
   "execution_count": 5,
   "metadata": {
    "collapsed": false
   },
   "outputs": [],
   "source": [
    "model = Sequential()\n",
    "model.add(Dense(512, activation='relu', input_shape=(784,)))\n",
    "model.add(Dense(256, activation='relu'))\n",
    "model.add(Dense(10, activation='softmax'))"
   ]
  },
  {
   "cell_type": "markdown",
   "metadata": {},
   "source": [
    "## loss function と optimizer"
   ]
  },
  {
   "cell_type": "markdown",
   "metadata": {},
   "source": [
    "- 損失関数: https://keras.io/ja/losses/\n",
    "- optimizer: https://keras.io/ja/optimizers/"
   ]
  },
  {
   "cell_type": "code",
   "execution_count": 6,
   "metadata": {
    "collapsed": false
   },
   "outputs": [],
   "source": [
    "model.compile(loss='categorical_crossentropy', optimizer=keras.optimizers.Adam(), metrics=['accuracy'])"
   ]
  },
  {
   "cell_type": "markdown",
   "metadata": {},
   "source": [
    "## minibatch"
   ]
  },
  {
   "cell_type": "markdown",
   "metadata": {},
   "source": [
    "- sequential model: https://keras.io/ja/models/sequential/"
   ]
  },
  {
   "cell_type": "code",
   "execution_count": 7,
   "metadata": {
    "collapsed": false
   },
   "outputs": [
    {
     "name": "stdout",
     "output_type": "stream",
     "text": [
      "Train on 60000 samples, validate on 10000 samples\n",
      "Epoch 1/10\n",
      "60000/60000 [==============================] - 6s - loss: 0.2206 - acc: 0.9340 - val_loss: 0.1228 - val_acc: 0.9615\n",
      "Epoch 2/10\n",
      "60000/60000 [==============================] - 6s - loss: 0.0816 - acc: 0.9745 - val_loss: 0.0837 - val_acc: 0.9754\n",
      "Epoch 3/10\n",
      "60000/60000 [==============================] - 6s - loss: 0.0537 - acc: 0.9821 - val_loss: 0.0785 - val_acc: 0.9742\n",
      "Epoch 4/10\n",
      "60000/60000 [==============================] - 6s - loss: 0.0365 - acc: 0.9879 - val_loss: 0.0900 - val_acc: 0.9747\n",
      "Epoch 5/10\n",
      "60000/60000 [==============================] - 6s - loss: 0.0268 - acc: 0.9910 - val_loss: 0.0964 - val_acc: 0.9746\n",
      "Epoch 6/10\n",
      "60000/60000 [==============================] - 6s - loss: 0.0215 - acc: 0.9930 - val_loss: 0.0821 - val_acc: 0.9769\n",
      "Epoch 7/10\n",
      "60000/60000 [==============================] - 6s - loss: 0.0204 - acc: 0.9933 - val_loss: 0.0787 - val_acc: 0.9787\n",
      "Epoch 8/10\n",
      "60000/60000 [==============================] - 5s - loss: 0.0154 - acc: 0.9950 - val_loss: 0.1017 - val_acc: 0.9768\n",
      "Epoch 9/10\n",
      "60000/60000 [==============================] - 6s - loss: 0.0165 - acc: 0.9943 - val_loss: 0.0825 - val_acc: 0.9790\n",
      "Epoch 10/10\n",
      "60000/60000 [==============================] - 5s - loss: 0.0112 - acc: 0.9961 - val_loss: 0.0846 - val_acc: 0.9819\n"
     ]
    },
    {
     "data": {
      "text/plain": [
       "<keras.callbacks.History at 0x12995e8d0>"
      ]
     },
     "execution_count": 7,
     "metadata": {},
     "output_type": "execute_result"
    }
   ],
   "source": [
    "model.fit(X_train, y_train, batch_size=100, epochs=10, verbose=1, validation_data=(X_test, y_test))"
   ]
  },
  {
   "cell_type": "code",
   "execution_count": 8,
   "metadata": {
    "collapsed": true
   },
   "outputs": [],
   "source": [
    "score = model.evaluate(X_test, y_test, verbose=0)"
   ]
  },
  {
   "cell_type": "code",
   "execution_count": 9,
   "metadata": {
    "collapsed": false
   },
   "outputs": [
    {
     "name": "stdout",
     "output_type": "stream",
     "text": [
      "Test loss: 0.0846, Test accuracy: 0.982\n"
     ]
    }
   ],
   "source": [
    "print('Test loss: %.4f, Test accuracy: %.3f' % (score[0], score[1]))"
   ]
  }
 ],
 "metadata": {
  "kernelspec": {
   "display_name": "Python 3",
   "language": "python",
   "name": "python3"
  },
  "language_info": {
   "codemirror_mode": {
    "name": "ipython",
    "version": 3
   },
   "file_extension": ".py",
   "mimetype": "text/x-python",
   "name": "python",
   "nbconvert_exporter": "python",
   "pygments_lexer": "ipython3",
   "version": "3.5.2"
  }
 },
 "nbformat": 4,
 "nbformat_minor": 0
}
